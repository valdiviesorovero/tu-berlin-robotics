{
 "cells": [
  {
   "cell_type": "code",
   "execution_count": 1,
   "id": "18a56c54-ab37-44fd-98b0-90eec546be8e",
   "metadata": {},
   "outputs": [],
   "source": [
    "import pandas as pd\n",
    "import matplotlib.pyplot as plt\n",
    "import numpy as np\n",
    "\n",
    "data1 = pd.read_csv('simDataSpringMass.csv')\n",
    "xSpringMass = np.array(data1['x'])\n",
    "ySpringMass = np.array(data1['y'])\n",
    "data2 = pd.read_csv('simDataSpringDamperMass.csv')\n",
    "xSpringDamperMass = np.array(data2['x'])\n",
    "ySpringDamperMass = np.array(data2['y'])\n",
    "\n",
    "time = range(501)\n",
    "\n",
    "plt.figure(figsize=(10, 8))\n",
    "\n",
    "plt.subplot(2, 1, 1)\n",
    "plt.plot(time, xSpringMass, color='blue')\n",
    "plt.xlabel('Time')\n",
    "plt.ylabel('X')\n",
    "plt.title('Spring Mass: Position vs Time')\n",
    "plt.grid(True)\n",
    "plt.axis([0,500,-50,250])\n",
    "\n",
    "plt.subplot(2, 1, 2)\n",
    "plt.plot(time, ySpringMass, color='green')\n",
    "plt.xlabel('Time')\n",
    "plt.ylabel('Y')\n",
    "plt.title('Spring Mass: Velocity vs Time')\n",
    "plt.grid(True)\n",
    "plt.axis([0,500,-50,250])\n",
    "\n",
    "plt.tight_layout()\n",
    "plt.savefig(\"mass.png\", format=\"png\", dpi=300)\n",
    "plt.close()\n",
    "\n",
    "plt.figure(figsize=(10, 8))\n",
    "\n",
    "plt.subplot(2, 1, 1)\n",
    "plt.plot(time, xSpringDamperMass, color='red')\n",
    "plt.xlabel('Time')\n",
    "plt.ylabel('X')\n",
    "plt.title('Spring Damper Mass: Position vs Time')\n",
    "plt.grid(True)\n",
    "plt.axis([0,500,-50,200])\n",
    "\n",
    "plt.subplot(2, 1, 2)\n",
    "plt.plot(time, ySpringDamperMass, color='orange')\n",
    "plt.xlabel('Time')\n",
    "plt.ylabel('Y')\n",
    "plt.title('Spring Damper Mass: Velocity vs Time')\n",
    "plt.grid(True)\n",
    "plt.axis([0,500,-50,200])\n",
    "\n",
    "plt.tight_layout()\n",
    "plt.savefig(\"mass_damper.png\", format=\"png\", dpi=300)\n",
    "plt.close()\n"
   ]
  },
  {
   "cell_type": "code",
   "execution_count": null,
   "id": "9f612253-320f-4a73-b7c7-14fefad3fed3",
   "metadata": {},
   "outputs": [],
   "source": []
  }
 ],
 "metadata": {
  "kernelspec": {
   "display_name": "Python 3 (ipykernel)",
   "language": "python",
   "name": "python3"
  },
  "language_info": {
   "codemirror_mode": {
    "name": "ipython",
    "version": 3
   },
   "file_extension": ".py",
   "mimetype": "text/x-python",
   "name": "python",
   "nbconvert_exporter": "python",
   "pygments_lexer": "ipython3",
   "version": "3.8.10"
  }
 },
 "nbformat": 4,
 "nbformat_minor": 5
}
